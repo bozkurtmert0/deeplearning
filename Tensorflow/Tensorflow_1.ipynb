{
  "nbformat": 4,
  "nbformat_minor": 0,
  "metadata": {
    "colab": {
      "name": "Tensorflow_1.ipynb",
      "provenance": [],
      "collapsed_sections": []
    },
    "kernelspec": {
      "name": "python3",
      "display_name": "Python 3"
    },
    "accelerator": "GPU"
  },
  "cells": [
    {
      "cell_type": "markdown",
      "metadata": {
        "id": "RUpsJDWBrKz5"
      },
      "source": [
        "**En basit haliyle bir sinir ağı inşa edelim**"
      ]
    },
    {
      "cell_type": "markdown",
      "metadata": {
        "id": "z-wwvamFra91"
      },
      "source": [
        "Gerekli kütüphaneleri dahil edelim .\n",
        "Eğer bunlara sahip değilseniz pip ile yükleyebilirsiniz"
      ]
    },
    {
      "cell_type": "code",
      "metadata": {
        "id": "5-n7w_gu5tNx"
      },
      "source": [
        "import keras\n",
        "import tensorflow as tf\n",
        "import numpy as np"
      ],
      "execution_count": null,
      "outputs": []
    },
    {
      "cell_type": "markdown",
      "metadata": {
        "id": "Qgwl7ftDrv2X"
      },
      "source": [
        "Tek katmanlı ,tek nöronlu bir sinir ağı tanımlayalım. Girdi olarak sayıları kullanacağımız için tek boyutlu bir girşimiz olacaktır (28x28 gibi bir görüntü ile çalışmıyoruz sonuçta :D)"
      ]
    },
    {
      "cell_type": "code",
      "metadata": {
        "id": "WptNBc66ruSb"
      },
      "source": [
        "model = keras.Sequential([keras.layers.Dense(units = 1, input_shape = [1])]) #bu tek bir nöron"
      ],
      "execution_count": null,
      "outputs": []
    },
    {
      "cell_type": "markdown",
      "metadata": {
        "id": "fhXWGWe4sZtW"
      },
      "source": [
        "Optimizer olarak sgd(stokastik gradyan inişi),loss hesaplaması içinde mean_squared_error (hata karelerin ortalaması)'nı kullanacağız. Şimdilik buralara takılmamıza gerek fakat arkasında yatan matematiği kavramak bize modelimizi geliştirirken izlememiz gerekn yolu bulmamaıza yardımcı olacaktır."
      ]
    },
    {
      "cell_type": "code",
      "metadata": {
        "id": "V7xl6Klrr56f"
      },
      "source": [
        "model.compile(optimizer= 'sgd' , loss= 'mean_squared_error')"
      ],
      "execution_count": null,
      "outputs": []
    },
    {
      "cell_type": "markdown",
      "metadata": {
        "id": "WRVkSv7RtBYf"
      },
      "source": [
        "Sıra hangi verilerimizle neyi çıkarmak istediğimize geldi.\n",
        "x girdileri ile y çıktısını elde ettiğimiz bir problem olsun. Aşağıdaki verilere bakarak matematiksel olarak y = 2x -1 denklemini kolayca görebiliriz. Tabi ki biz bunu modelimizin anlamasını sağlamak istiyoruz."
      ]
    },
    {
      "cell_type": "markdown",
      "metadata": {
        "id": "hFAoSAhptr1p"
      },
      "source": [
        "Veri temsiliyetini daha kolay hale getirmek için numpy arraylerini kullandık."
      ]
    },
    {
      "cell_type": "code",
      "metadata": {
        "id": "D9Tfkx8p52Bx"
      },
      "source": [
        "xs = np.array([-1.0, 0.0 ,1.0 ,2.0 ,3.0 ,4.0] ,dtype =float)\n",
        "ys = np.array([-3.0 ,-1.0 ,1.0 ,3.0 ,5.0 ,7.0], dtype = float)"
      ],
      "execution_count": null,
      "outputs": []
    },
    {
      "cell_type": "markdown",
      "metadata": {
        "id": "1-gousIRt2EA"
      },
      "source": [
        " fit() ile modelimizi eğitmeye başlayabiliriz. Bu fonksiyonun içine x ve y değerlerimizi ardındanda epochs sayımızı girelim. \n",
        "Epochs sayısı modelin kaç kere egitim dongüsüne gireceği belirler."
      ]
    },
    {
      "cell_type": "code",
      "metadata": {
        "id": "2SoGAelQ54Zj"
      },
      "source": [
        "model.fit(xs,ys,epochs = 500)"
      ],
      "execution_count": null,
      "outputs": []
    },
    {
      "cell_type": "markdown",
      "metadata": {
        "id": "roZooQPMuwfA"
      },
      "source": [
        "Eğitim bitti ,modelimizin eğitim süresince daha iyi hale geldiğini loss(kayıp) değerinin gitgide azaldığını kontrol ederek görebiliriz. Model eğitim devam ederken her zaman daha iyi öğrenmeyebilir,bazen onu erken durdurmamız gerekebilir. Bazende çok düşük loss olmasına rağmen daha önce görmediği veriler üzerinde tahmin yaparken saçmalayabilir."
      ]
    },
    {
      "cell_type": "markdown",
      "metadata": {
        "id": "L-c87_aIvyag"
      },
      "source": [
        "Lafı uzatmadan modelimize tahmin yaptırarak onu kendimiz test edelim"
      ]
    },
    {
      "cell_type": "markdown",
      "metadata": {
        "id": "7PQwRo-Cv4u3"
      },
      "source": [
        "Örneğin x = 10 iken y nin değerinin ne olacağını tahmin etmesini sağlayalım.Tahmin için model.predict([x]) kullanacağız"
      ]
    },
    {
      "cell_type": "code",
      "metadata": {
        "colab": {
          "base_uri": "https://localhost:8080/"
        },
        "id": "GZi-N5bV55F4",
        "outputId": "0a99e2eb-5061-4afd-e4ef-154fb5d6dfbd"
      },
      "source": [
        "print(model.predict([10.0]))"
      ],
      "execution_count": null,
      "outputs": [
        {
          "output_type": "stream",
          "text": [
            "[[18.986504]]\n"
          ],
          "name": "stdout"
        }
      ]
    },
    {
      "cell_type": "markdown",
      "metadata": {
        "id": "7WolmEw96BJp"
      },
      "source": [
        "Cevabın tam olarak 19 olmasını bekledik fakat 19 a  çok yakın tam olarak 19 olmayan bir sayı gördük. Bunun iki ana nedeni cok az veri ile modelimizi egitmiş olmamız ve daha önemlisi sinir aglarının  olasiliklarlar ile çalışması yatıyor. Daha fazla veri ile 19 a daha yakın bir sayı elde edbilirdik basit bir örnek için buna ihtiyaç yoktur sanırım."
      ]
    },
    {
      "cell_type": "markdown",
      "metadata": {
        "id": "rzr4O0Mv6gRg"
      },
      "source": [
        " Sinir ağının X ve Y arasındaki ilişki hakkında hiç bir fikri yoktur, bu yüzden bir tahmin yapar. Diyelim ki Y eşittir 10X eksi 10 şeklinde bir tahmin yapar. Daha sonra bildiği verileri kullanarak (bunlar daha önce gördüğümüz X ve Y'nin aldığı değerler kümesi) tahminin ne kadar iyi veya ne kadar kötü olduğunu ölçecek. Kayıp fonksiyonu bunu ölçer ve ardından bir sonraki tahmini yapacak olan optimize ediciye veriyi verir. Optimize edici kayıp fonksiyonundan gelen verileri kullanarak tahminin ne kadar iyi veya ne kadar kötü yapıldığını düşünür. O zaman buradaki mantık; her tahminin öncekinden daha iyi olması gerektiğidir. Yapılan tahminler iyileştikçe, doğruluk yüzde yüze yaklaşır, burada yakınsama terimi kullanılır."
      ]
    },
    {
      "cell_type": "markdown",
      "metadata": {
        "id": "_VP54cpo6j-4"
      },
      "source": [
        "Bu örneğimizde kayıp fonksiyonu ortalama kare hatası optimize ediciyse (optimizer) stokastik gradyan inişi anlamına gelen SGD'di"
      ]
    },
    {
      "cell_type": "markdown",
      "metadata": {
        "id": "6u7QffSkYQ3W"
      },
      "source": [
        "**Yeni bir örnek**"
      ]
    },
    {
      "cell_type": "markdown",
      "metadata": {
        "id": "V5Nwe-mJbymd"
      },
      "source": [
        "Örneğin bir ev fiyatlandırması hayal edelim. Evin fiyati 50bin ve her bir yeni oda için +50bin şeklinde bir fiyatlandırması olsun. 8 (ekstra 7 oda demek) odalı bir evin fiyatını bir yapay sinir ağ kurarak bulmaya çalışalım."
      ]
    },
    {
      "cell_type": "markdown",
      "metadata": {
        "id": "FZBzeepEdTz0"
      },
      "source": [
        "İpucu : Ağın daha iyi sonuçlar elde etmesi için sayılarımızı olabildiğince sade tutmaya çalışalım.Örneğin 50.000 yerine 50 kullanıp daha sonra 'bin' şeklinde bir ifadeyle düzeltebiliriz. "
      ]
    },
    {
      "cell_type": "markdown",
      "metadata": {
        "id": "eDUoXjh9d5g2"
      },
      "source": [
        "**Ağımızın loss değerini anlık olarak takip etmek için livelossplot kütüphanesini kullanalım**"
      ]
    },
    {
      "cell_type": "markdown",
      "metadata": {
        "id": "jb6mgr81ehvF"
      },
      "source": [
        "Yükleme ve import işlemlerini gerçekleştirelim"
      ]
    },
    {
      "cell_type": "code",
      "metadata": {
        "colab": {
          "base_uri": "https://localhost:8080/"
        },
        "id": "vAPhr9wDdS_0",
        "outputId": "be800291-276c-45c6-80bd-832f4d2956d5"
      },
      "source": [
        "!pip install livelossplot"
      ],
      "execution_count": 1,
      "outputs": [
        {
          "output_type": "stream",
          "text": [
            "Installing collected packages: livelossplot\n",
            "Successfully installed livelossplot-0.5.3\n"
          ],
          "name": "stdout"
        }
      ]
    },
    {
      "cell_type": "code",
      "metadata": {
        "id": "gyKEq8BkTXrv"
      },
      "source": [
        "from livelossplot import PlotLossesKeras"
      ],
      "execution_count": 2,
      "outputs": []
    },
    {
      "cell_type": "code",
      "metadata": {
        "colab": {
          "base_uri": "https://localhost:8080/",
          "height": 653
        },
        "id": "6_kixl0mImGI",
        "outputId": "0c1f2c3b-ca52-48e4-d5f5-1c505cb743e6"
      },
      "source": [
        "import tensorflow as tf\n",
        "import numpy as np\n",
        "from tensorflow import keras\n",
        "xs = np.array([ 0,1, 2, 4, 6, 8, 10,])\n",
        "ys = np.array([0.50, 1.00, 1.50, 2.50, 3.50, 4.50, 5.50])\n",
        "model = keras.Sequential([keras.layers.Dense(units = 1, input_shape = [1])])\n",
        "model.compile(optimizer= 'sgd' , loss= 'mean_squared_error')\n",
        "model.fit(xs,ys,epochs = 50 , callbacks=[PlotLossesKeras()]) #callbacks eklelýoruz bize anlık geri donut vermesi için"
      ],
      "execution_count": 5,
      "outputs": [
        {
          "output_type": "display_data",
          "data": {
            "image/png": "[encoded data removed]",
            "text/plain": [
              "<Figure size 864x576 with 2 Axes>"
            ]
          },
          "metadata": {
            "tags": [],
            "needs_background": "light"
          }
        },
        {
          "output_type": "stream",
          "text": [
            "Loss\n",
            "\tloss             \t (min:    0.006, max:  161.637, cur:    0.006)\n",
            "\b\b\b\b\b\b\b\b\b\b\b\b\b\b\b\b\b\b\b\b\b\b\b\b\b\b\b\b\b\b\b\b\b\b\b\b\b\b\b\b\b\b\b\b\b\b\b\b\b\b\b\b\b\b\b\b\b\b\b\b\b\r1/1 [==============================] - 0s 220ms/step - loss: 0.0063\n"
          ],
          "name": "stdout"
        },
        {
          "output_type": "execute_result",
          "data": {
            "text/plain": [
              "<tensorflow.python.keras.callbacks.History at 0x7f6a81aec6d8>"
            ]
          },
          "metadata": {
            "tags": []
          },
          "execution_count": 5
        }
      ]
    },
    {
      "cell_type": "markdown",
      "metadata": {
        "id": "oO_LMPasfQhG"
      },
      "source": [
        "Ekstra 7 odaya sahip bir evin fiyatı 50k+(7*50k) dan 400k çıkmasını bekleriz"
      ]
    },
    {
      "cell_type": "code",
      "metadata": {
        "colab": {
          "base_uri": "https://localhost:8080/"
        },
        "id": "WywtRrd6SdUk",
        "outputId": "228a029a-6a03-43c0-bc9d-739adaa30313"
      },
      "source": [
        "print(100000*model.predict([7]))"
      ],
      "execution_count": 9,
      "outputs": [
        {
          "output_type": "stream",
          "text": [
            "[[399918.22242737]]\n"
          ],
          "name": "stdout"
        }
      ]
    },
    {
      "cell_type": "markdown",
      "metadata": {
        "id": "dK3lzgLphuyF"
      },
      "source": [
        "Tahminimizle tam olarak aynısının çıkmasını beklememeliyiz ,hedefimiz olabildiğince yakın bir değerdi. "
      ]
    },
    {
      "cell_type": "code",
      "metadata": {
        "id": "pfDSNbQxSiGd"
      },
      "source": [
        ""
      ],
      "execution_count": null,
      "outputs": []
    }
  ]
}