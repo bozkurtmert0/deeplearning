{
  "nbformat": 4,
  "nbformat_minor": 0,
  "metadata": {
    "colab": {
      "name": "VGG16_NesneTanima.ipynb",
      "provenance": [],
      "collapsed_sections": [],
      "toc_visible": true,
      "mount_file_id": "1seSAs4Ksu3wF859_JzdzDZ2enLCyEZir",
      "authorship_tag": "ABX9TyPuLyQe7CjBkKttPzxEggAW"
    },
    "kernelspec": {
      "name": "python3",
      "display_name": "Python 3"
    },
    "accelerator": "GPU"
  },
  "cells": [
    {
      "cell_type": "markdown",
      "metadata": {
        "id": "zHOs-BkyFMED"
      },
      "source": [
        "Colab Dogrulamasi"
      ]
    },
    {
      "cell_type": "code",
      "metadata": {
        "id": "Bj5jdxY1DYeW",
        "outputId": "360c41f1-9979-4ee6-c9fb-7c92c0632e87",
        "colab": {
          "base_uri": "https://localhost:8080/"
        }
      },
      "source": [
        "from google.colab import drive\n",
        "drive.mount('/gdrive')\n",
        "%cd /gdrive"
      ],
      "execution_count": 34,
      "outputs": [
        {
          "output_type": "stream",
          "text": [
            "Mounted at /gdrive\n",
            "/gdrive\n"
          ],
          "name": "stdout"
        }
      ]
    },
    {
      "cell_type": "code",
      "metadata": {
        "id": "GjElu5NdJ2we"
      },
      "source": [
        "import numpy as np\n",
        "from PIL import Image\n",
        "\n",
        "from keras.applications.vgg16 import VGG16\n",
        "from keras.applications.vgg16 import preprocess_input , decode_predictions"
      ],
      "execution_count": 35,
      "outputs": []
    },
    {
      "cell_type": "markdown",
      "metadata": {
        "id": "-y5s5JtTPmRE"
      },
      "source": [
        "daha once egitilmis olan ImageNet veri kumesini yukledik"
      ]
    },
    {
      "cell_type": "code",
      "metadata": {
        "id": "3U07heBdKkkm"
      },
      "source": [
        "model = VGG16(weights = 'imagenet',include_top = True)"
      ],
      "execution_count": 36,
      "outputs": []
    },
    {
      "cell_type": "markdown",
      "metadata": {
        "id": "jjsPru4sP-Cb"
      },
      "source": [
        "Bu modelin katmanlarina bakalim"
      ]
    },
    {
      "cell_type": "code",
      "metadata": {
        "id": "coVaBtDqPlS1",
        "outputId": "76ee3f69-1c33-4c95-956f-b3a0c0910cfd",
        "colab": {
          "base_uri": "https://localhost:8080/"
        }
      },
      "source": [
        "layers = dict((layer.name, layer.output) for layer in model.layers)\n",
        "layers"
      ],
      "execution_count": 37,
      "outputs": [
        {
          "output_type": "execute_result",
          "data": {
            "text/plain": [
              "{'block1_conv1': <tf.Tensor 'block1_conv1/Relu_1:0' shape=(None, 224, 224, 64) dtype=float32>,\n",
              " 'block1_conv2': <tf.Tensor 'block1_conv2/Relu_1:0' shape=(None, 224, 224, 64) dtype=float32>,\n",
              " 'block1_pool': <tf.Tensor 'block1_pool/MaxPool_1:0' shape=(None, 112, 112, 64) dtype=float32>,\n",
              " 'block2_conv1': <tf.Tensor 'block2_conv1/Relu_1:0' shape=(None, 112, 112, 128) dtype=float32>,\n",
              " 'block2_conv2': <tf.Tensor 'block2_conv2/Relu_1:0' shape=(None, 112, 112, 128) dtype=float32>,\n",
              " 'block2_pool': <tf.Tensor 'block2_pool/MaxPool_1:0' shape=(None, 56, 56, 128) dtype=float32>,\n",
              " 'block3_conv1': <tf.Tensor 'block3_conv1/Relu_1:0' shape=(None, 56, 56, 256) dtype=float32>,\n",
              " 'block3_conv2': <tf.Tensor 'block3_conv2/Relu_1:0' shape=(None, 56, 56, 256) dtype=float32>,\n",
              " 'block3_conv3': <tf.Tensor 'block3_conv3/Relu_1:0' shape=(None, 56, 56, 256) dtype=float32>,\n",
              " 'block3_pool': <tf.Tensor 'block3_pool/MaxPool_1:0' shape=(None, 28, 28, 256) dtype=float32>,\n",
              " 'block4_conv1': <tf.Tensor 'block4_conv1/Relu_1:0' shape=(None, 28, 28, 512) dtype=float32>,\n",
              " 'block4_conv2': <tf.Tensor 'block4_conv2/Relu_1:0' shape=(None, 28, 28, 512) dtype=float32>,\n",
              " 'block4_conv3': <tf.Tensor 'block4_conv3/Relu_1:0' shape=(None, 28, 28, 512) dtype=float32>,\n",
              " 'block4_pool': <tf.Tensor 'block4_pool/MaxPool_1:0' shape=(None, 14, 14, 512) dtype=float32>,\n",
              " 'block5_conv1': <tf.Tensor 'block5_conv1/Relu_1:0' shape=(None, 14, 14, 512) dtype=float32>,\n",
              " 'block5_conv2': <tf.Tensor 'block5_conv2/Relu_1:0' shape=(None, 14, 14, 512) dtype=float32>,\n",
              " 'block5_conv3': <tf.Tensor 'block5_conv3/Relu_1:0' shape=(None, 14, 14, 512) dtype=float32>,\n",
              " 'block5_pool': <tf.Tensor 'block5_pool/MaxPool_1:0' shape=(None, 7, 7, 512) dtype=float32>,\n",
              " 'fc1': <tf.Tensor 'fc1/Relu_1:0' shape=(None, 4096) dtype=float32>,\n",
              " 'fc2': <tf.Tensor 'fc2/Relu_1:0' shape=(None, 4096) dtype=float32>,\n",
              " 'flatten': <tf.Tensor 'flatten/Reshape_1:0' shape=(None, 25088) dtype=float32>,\n",
              " 'input_2': <tf.Tensor 'input_2:0' shape=(None, 224, 224, 3) dtype=float32>,\n",
              " 'predictions': <tf.Tensor 'predictions/Softmax_1:0' shape=(None, 1000) dtype=float32>}"
            ]
          },
          "metadata": {
            "tags": []
          },
          "execution_count": 37
        }
      ]
    },
    {
      "cell_type": "markdown",
      "metadata": {
        "id": "yt1fbGwFQI5l"
      },
      "source": [
        "toplam parametresine bakalim"
      ]
    },
    {
      "cell_type": "code",
      "metadata": {
        "id": "k24AOVx2QHRj",
        "outputId": "8aab0437-3fb0-4bd5-accf-e61d9d82fcd1",
        "colab": {
          "base_uri": "https://localhost:8080/"
        }
      },
      "source": [
        "model.count_params()"
      ],
      "execution_count": 38,
      "outputs": [
        {
          "output_type": "execute_result",
          "data": {
            "text/plain": [
              "138357544"
            ]
          },
          "metadata": {
            "tags": []
          },
          "execution_count": 38
        }
      ]
    },
    {
      "cell_type": "markdown",
      "metadata": {
        "id": "sgncvm-tdjNg"
      },
      "source": [
        "Tahminde bulunulacak fotograflarin url lerini ekledik\n",
        "Listeye uygun sekilde baska fotograf linkleride eklenebilir"
      ]
    },
    {
      "cell_type": "code",
      "metadata": {
        "id": "qsIJCvJQcJTI"
      },
      "source": [
        "url_list =['https://i.sozcu.com.tr/wp-content/uploads/2020/03/29/iecrop/ucak1depo_1_1_1585470609-400x400.jpg',\n",
        "           'https://i2.cnnturk.com/i/cnnturk/75/800x400/5f12c1f5b57f1508487312e3',\n",
        "           'https://i0.wp.com/shop.karmod.com/wp-content/uploads/2018/06/DSC_0067.jpg',\n",
        "           \n",
        "             ]"
      ],
      "execution_count": 63,
      "outputs": []
    },
    {
      "cell_type": "markdown",
      "metadata": {
        "id": "oiZmK0eReUl4"
      },
      "source": [
        "Listemizdeki linklerden modelimize tahmin islemi yaptiralim\n"
      ]
    },
    {
      "cell_type": "code",
      "metadata": {
        "id": "LMRrbb0DcqSl",
        "outputId": "a0512634-9212-469f-9370-d4cda84c122e",
        "colab": {
          "base_uri": "https://localhost:8080/"
        }
      },
      "source": [
        "from PIL import Image\n",
        "import requests\n",
        "\n",
        "\n",
        "\n",
        "for img_url in url_list :\n",
        "  \n",
        "  img = Image.open(requests.get(img_url, stream=True).raw)\n",
        "  img = img.resize((224,224))\n",
        "  \n",
        "  x = np.array(img,dtype='float32') #goruntuyu diziye cevirir\n",
        "  x = np.expand_dims(x,axis=0) #dizi listesine cevirir  \n",
        "  x = preprocess_input(x)\n",
        "  \n",
        "  preds = model.predict(x) #tahmin etmesi icin\n",
        "  print('tahmin:' , decode_predictions(preds ,top = 3)[0]) #en iyi 3 tahmnini gosterir\n",
        "  print(decode_predictions(preds,top = 1)[0][0][1])\n",
        "\n"
      ],
      "execution_count": 64,
      "outputs": [
        {
          "output_type": "stream",
          "text": [
            "tahmin: [('n02690373', 'airliner', 0.9898162), ('n04592741', 'wing', 0.009927174), ('n04552348', 'warplane', 0.00018909326)]\n",
            "airliner\n",
            "tahmin: [('n03930630', 'pickup', 0.12867898), ('n03459775', 'grille', 0.12264151), ('n03791053', 'motor_scooter', 0.056638706)]\n",
            "pickup\n",
            "tahmin: [('n03776460', 'mobile_home', 0.29931787), ('n03930313', 'picket_fence', 0.12961785), ('n02859443', 'boathouse', 0.1156265)]\n",
            "mobile_home\n",
            "tahmin: [('n03532672', 'hook', 0.23321016), ('n04228054', 'ski', 0.14245251), ('n02879718', 'bow', 0.08026621)]\n",
            "hook\n"
          ],
          "name": "stdout"
        }
      ]
    },
    {
      "cell_type": "code",
      "metadata": {
        "id": "8LQeAyzBR3Rr"
      },
      "source": [
        ""
      ],
      "execution_count": null,
      "outputs": []
    }
  ]
}