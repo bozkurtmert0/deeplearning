{
  "nbformat": 4,
  "nbformat_minor": 0,
  "metadata": {
    "colab": {
      "name": "Basit_Yapay_Sinir_Agi.ipynb",
      "provenance": [],
      "authorship_tag": "ABX9TyPYhdHlyXSnkaE3SmiXeNsw",
      "include_colab_link": true
    },
    "kernelspec": {
      "name": "python3",
      "display_name": "Python 3"
    },
    "accelerator": "GPU"
  },
  "cells": [
    {
      "cell_type": "markdown",
      "metadata": {
        "id": "view-in-github",
        "colab_type": "text"
      },
      "source": [
        "<a href=\"https://colab.research.google.com/github/bozkurtmert0/deeplearning/blob/master/Basit_Yapay_Sinir_Agi.ipynb\" target=\"_parent\"><img src=\"https://colab.research.google.com/assets/colab-badge.svg\" alt=\"Open In Colab\"/></a>"
      ]
    },
    {
      "cell_type": "markdown",
      "metadata": {
        "id": "UKQUiQK5fXN2"
      },
      "source": [
        "\n",
        " En basit sekliyle   MNIST Veri Kumesi kullanarak  Yapay Sinir Agi ile Rakam Siniflandirma\n"
      ]
    },
    {
      "cell_type": "code",
      "metadata": {
        "id": "uUb-CMjMeUUA",
        "outputId": "55a45df6-4ae9-477d-ff0e-d139b457cb04",
        "colab": {
          "base_uri": "https://localhost:8080/"
        }
      },
      "source": [
        "from keras.datasets import mnist\n",
        "\n",
        "(train_images ,train_labels) , (test_images,test_labels) = mnist.load_data()"
      ],
      "execution_count": 1,
      "outputs": [
        {
          "output_type": "stream",
          "text": [
            "Downloading data from https://storage.googleapis.com/tensorflow/tf-keras-datasets/mnist.npz\n",
            "11493376/11490434 [==============================] - 0s 0us/step\n"
          ],
          "name": "stdout"
        }
      ]
    },
    {
      "cell_type": "code",
      "metadata": {
        "id": "oHJ0KgTSe1E4",
        "outputId": "3eaa7f73-d7cd-4ee5-aee1-b0b34bf7a851",
        "colab": {
          "base_uri": "https://localhost:8080/"
        }
      },
      "source": [
        "train_images.shape"
      ],
      "execution_count": 3,
      "outputs": [
        {
          "output_type": "execute_result",
          "data": {
            "text/plain": [
              "(60000, 28, 28)"
            ]
          },
          "metadata": {
            "tags": []
          },
          "execution_count": 3
        }
      ]
    },
    {
      "cell_type": "code",
      "metadata": {
        "id": "VmyDudEffP3W",
        "outputId": "3557a013-839a-4e82-cb36-21627f646a29",
        "colab": {
          "base_uri": "https://localhost:8080/"
        }
      },
      "source": [
        "test_images.shape"
      ],
      "execution_count": 6,
      "outputs": [
        {
          "output_type": "execute_result",
          "data": {
            "text/plain": [
              "(10000, 28, 28)"
            ]
          },
          "metadata": {
            "tags": []
          },
          "execution_count": 6
        }
      ]
    },
    {
      "cell_type": "code",
      "metadata": {
        "id": "k0vdEQHIe5EG",
        "outputId": "6da23645-b987-4654-eb6e-98328b886d1d",
        "colab": {
          "base_uri": "https://localhost:8080/"
        }
      },
      "source": [
        "len(train_images)"
      ],
      "execution_count": 4,
      "outputs": [
        {
          "output_type": "execute_result",
          "data": {
            "text/plain": [
              "60000"
            ]
          },
          "metadata": {
            "tags": []
          },
          "execution_count": 4
        }
      ]
    },
    {
      "cell_type": "code",
      "metadata": {
        "id": "LjzfYu19fGft",
        "outputId": "84b54fc7-217e-414f-b954-5464ec41ed25",
        "colab": {
          "base_uri": "https://localhost:8080/"
        }
      },
      "source": [
        "train_labels"
      ],
      "execution_count": 5,
      "outputs": [
        {
          "output_type": "execute_result",
          "data": {
            "text/plain": [
              "array([5, 0, 4, ..., 5, 6, 8], dtype=uint8)"
            ]
          },
          "metadata": {
            "tags": []
          },
          "execution_count": 5
        }
      ]
    },
    {
      "cell_type": "markdown",
      "metadata": {
        "id": "YR_iyzIOfldO"
      },
      "source": [
        "# Ag Mimarisi"
      ]
    },
    {
      "cell_type": "code",
      "metadata": {
        "id": "ZiSZBBotfMzc"
      },
      "source": [
        "from keras import models\n",
        "from keras import layers"
      ],
      "execution_count": 7,
      "outputs": []
    },
    {
      "cell_type": "code",
      "metadata": {
        "id": "pdSV_imGftpM"
      },
      "source": [
        "network = models.Sequential() #agi tanimladik\n",
        "network.add(layers.Dense(512,activation= 'relu', input_shape = (28 *28,) )) #katman bu satirdir basit biraktigimiz icin daha fazla katmana gerek yok\n",
        "network.add(layers.Dense(10,activation= \"softmax\")) #bu katman da siniflandirici katmandir"
      ],
      "execution_count": 12,
      "outputs": []
    },
    {
      "cell_type": "markdown",
      "metadata": {
        "id": "UcvBBK4hjlZv"
      },
      "source": [
        "## **Derlenme**"
      ]
    },
    {
      "cell_type": "code",
      "metadata": {
        "id": "K6pIBMc_fzQc"
      },
      "source": [
        "network.compile(optimizer = 'rmsprop',\n",
        "                loss = 'categorical_crossentropy',\n",
        "                metrics = ['accuracy'])"
      ],
      "execution_count": 20,
      "outputs": []
    },
    {
      "cell_type": "markdown",
      "metadata": {
        "id": "IlW9VuKXh1pP"
      },
      "source": [
        "# **Girislerin ve etiketlerin hazirlanmasi**\n",
        "\n",
        "\n",
        "\n"
      ]
    },
    {
      "cell_type": "code",
      "metadata": {
        "id": "QF1yA0yKhr4I"
      },
      "source": [
        "train_images = train_images.reshape(60000 , 28*28)\n",
        "train_images = train_images.astype('float32')/255\n",
        "\n",
        "test_images = test_images.reshape(10000 , 28*28)\n",
        "test_images = test_images.astype('float32')/255"
      ],
      "execution_count": 14,
      "outputs": []
    },
    {
      "cell_type": "code",
      "metadata": {
        "id": "xFNo2AGViIGp"
      },
      "source": [
        "from keras.utils import to_categorical\n",
        "\n",
        "train_labels = to_categorical(train_labels)\n",
        "test_labels = to_categorical(test_labels)"
      ],
      "execution_count": 15,
      "outputs": []
    },
    {
      "cell_type": "markdown",
      "metadata": {
        "id": "cy0v9rMwioYX"
      },
      "source": [
        "## **Egitim**"
      ]
    },
    {
      "cell_type": "code",
      "metadata": {
        "id": "CrjPYjAUilmd",
        "outputId": "dbc3f4d1-1978-4cbd-d239-6eb5a459ee25",
        "colab": {
          "base_uri": "https://localhost:8080/"
        }
      },
      "source": [
        "network.fit( train_images, train_labels, epochs = 5 , batch_size= 128 ) "
      ],
      "execution_count": 21,
      "outputs": [
        {
          "output_type": "stream",
          "text": [
            "Epoch 1/5\n",
            "469/469 [==============================] - 1s 3ms/step - loss: 1.4929 - accuracy: 0.6675\n",
            "Epoch 2/5\n",
            "469/469 [==============================] - 1s 3ms/step - loss: 0.5953 - accuracy: 0.8508\n",
            "Epoch 3/5\n",
            "469/469 [==============================] - 1s 3ms/step - loss: 0.4150 - accuracy: 0.8882\n",
            "Epoch 4/5\n",
            "469/469 [==============================] - 1s 3ms/step - loss: 0.3562 - accuracy: 0.9003\n",
            "Epoch 5/5\n",
            "469/469 [==============================] - 1s 3ms/step - loss: 0.3264 - accuracy: 0.9073\n"
          ],
          "name": "stdout"
        },
        {
          "output_type": "execute_result",
          "data": {
            "text/plain": [
              "<tensorflow.python.keras.callbacks.History at 0x7f2c2d9f4cf8>"
            ]
          },
          "metadata": {
            "tags": []
          },
          "execution_count": 21
        }
      ]
    },
    {
      "cell_type": "code",
      "metadata": {
        "id": "G5bh3dM6i5r_",
        "outputId": "30fea159-6d0a-4a6b-8b7c-018d5eb42f8b",
        "colab": {
          "base_uri": "https://localhost:8080/"
        }
      },
      "source": [
        "test_lost , test_acc = network.evaluate(test_images,test_labels)"
      ],
      "execution_count": 22,
      "outputs": [
        {
          "output_type": "stream",
          "text": [
            "313/313 [==============================] - 1s 2ms/step - loss: 56.9182 - accuracy: 0.8119\n"
          ],
          "name": "stdout"
        }
      ]
    },
    {
      "cell_type": "markdown",
      "metadata": {
        "id": "3bUOZ5iGjtR_"
      },
      "source": [
        "Test kaybi ve basarimi"
      ]
    },
    {
      "cell_type": "code",
      "metadata": {
        "id": "DxfeC-sDjTud",
        "outputId": "52f819b3-de08-4b89-8d89-ac73755b526f",
        "colab": {
          "base_uri": "https://localhost:8080/"
        }
      },
      "source": [
        "test_lost "
      ],
      "execution_count": 23,
      "outputs": [
        {
          "output_type": "execute_result",
          "data": {
            "text/plain": [
              "56.91818618774414"
            ]
          },
          "metadata": {
            "tags": []
          },
          "execution_count": 23
        }
      ]
    },
    {
      "cell_type": "code",
      "metadata": {
        "id": "1zTNaWo0jYO1",
        "outputId": "5f7a3ae8-c4fd-4c1f-87a9-81a63f3337ef",
        "colab": {
          "base_uri": "https://localhost:8080/"
        }
      },
      "source": [
        "test_acc"
      ],
      "execution_count": 24,
      "outputs": [
        {
          "output_type": "execute_result",
          "data": {
            "text/plain": [
              "0.8119000196456909"
            ]
          },
          "metadata": {
            "tags": []
          },
          "execution_count": 24
        }
      ]
    },
    {
      "cell_type": "code",
      "metadata": {
        "id": "jkNqlcsgjbeN"
      },
      "source": [
        ""
      ],
      "execution_count": null,
      "outputs": []
    }
  ]
}